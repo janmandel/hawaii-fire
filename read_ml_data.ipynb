{
 "cells": [
  {
   "cell_type": "code",
   "execution_count": null,
   "id": "013eb403-ca41-432e-81dc-dcc5381d8c69",
   "metadata": {},
   "outputs": [],
   "source": [
    "import sys,os\n",
    "import numpy as np"
   ]
  },
  {
   "cell_type": "code",
   "execution_count": null,
   "id": "cb10bb44-49ce-4be1-b126-2f8b988ff9b4",
   "metadata": {},
   "outputs": [],
   "source": [
    "#module_path = os.path.abspath(os.path.join('..', 'src'))\n",
    "#sys.path.append(module_path) "
   ]
  },
  {
   "cell_type": "code",
   "execution_count": null,
   "id": "3f9529b4-dc33-4b7b-ace5-5f8f0db9a6d3",
   "metadata": {},
   "outputs": [],
   "source": [
    "from saveload import save,load"
   ]
  },
  {
   "cell_type": "code",
   "execution_count": null,
   "id": "8fb02366-7911-4ce6-b5cf-3a87ad5e2b1e",
   "metadata": {},
   "outputs": [],
   "source": [
    "# the sample file to read\n",
    "# these files are created as ml_tign/work/*/ml_data  by running ./driver.sh or ./data_only.sh\n",
    "file='../data/ml_data'"
   ]
  },
  {
   "cell_type": "code",
   "execution_count": null,
   "id": "b12c31cc-8e39-4389-9006-9431f667122c",
   "metadata": {},
   "outputs": [],
   "source": [
    "X, y, c, basetime = load(file)"
   ]
  },
  {
   "cell_type": "code",
   "execution_count": null,
   "id": "8d84664b-28c6-45d6-b0b0-1c65a1308fbe",
   "metadata": {},
   "outputs": [],
   "source": [
    "print('X is shape',X.shape)\n",
    "print('  longitude        latitude        time in days since base_time')\n",
    "print(X)\n",
    "print('y is shape',y.shape,'1=fire, 0=no fire')\n",
    "print(y)\n",
    "print('c is shape',c.shape,'confidence level 0 to 100')\n",
    "print(c)\n",
    "print('base_time is',type(basetime))\n",
    "print(base_time)"
   ]
  },
  {
   "cell_type": "code",
   "execution_count": null,
   "id": "922d49af-6806-4b88-a5e5-29b20e76eb26",
   "metadata": {},
   "outputs": [],
   "source": []
  }
 ],
 "metadata": {
  "kernelspec": {
   "display_name": "Python 3 (ipykernel)",
   "language": "python",
   "name": "python3"
  },
  "language_info": {
   "codemirror_mode": {
    "name": "ipython",
    "version": 3
   },
   "file_extension": ".py",
   "mimetype": "text/x-python",
   "name": "python",
   "nbconvert_exporter": "python",
   "pygments_lexer": "ipython3",
   "version": "3.11.10"
  }
 },
 "nbformat": 4,
 "nbformat_minor": 5
}
