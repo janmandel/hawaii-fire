{
 "cells": [
  {
   "cell_type": "code",
   "execution_count": 1,
   "id": "de770c78-c336-453a-875c-03ff17da591a",
   "metadata": {},
   "outputs": [],
   "source": [
    "# The neccessary packages\n",
    "## In-house packages\n",
    "import lonlat_interp\n",
    "from lonlat_interp import test_reproduce_smooth_grid, Coord_to_index, Interpolator\n",
    "from saveload import save,load\n",
    "## Pacakages from anywhere else\n",
    "import os\n",
    "from os import path as osp \n",
    "import netCDF4 as nc\n",
    "import numpy as np\n",
    "import matplotlib.pyplot as plt\n",
    "import pandas as pd\n",
    "import rasterio\n",
    "from rasterio.plot import show\n",
    "from rasterio.mask import mask\n",
    "from rasterio.warp import reproject, Resampling\n",
    "import geopandas as gpd\n",
    "import matplotlib.pyplot as plt\n",
    "from matplotlib.colors import ListedColormap, BoundaryNorm\n",
    "import matplotlib.patches as mpatches\n",
    "from dbfread import DBF\n",
    "import pygrib\n",
    "import pickle\n",
    "from joblib import Parallel, delayed\n",
    "import time\n",
    "import psutil\n",
    "from datetime import datetime, timedelta"
   ]
  },
  {
   "cell_type": "code",
   "execution_count": 19,
   "id": "e8afed91-74ec-4f40-8322-f7d9fafac123",
   "metadata": {},
   "outputs": [],
   "source": [
    "# The file paths\n",
    "## Define the base directory (main)\n",
    "main = osp.join('C:/', 'Users', 'T-Spe', 'OneDrive', 'School', \"Fall '25\", \"Master's Project\", 'test')\n",
    "tifdata = osp.join(main, 'tifdata')\n",
    "\n",
    "## topography paths\n",
    "slope_path = osp.join(main, 'LH20_SlpP_220.tif')\n",
    "elevation_path = osp.join(main, 'LH20_Elev_220.tif')\n",
    "aspect_path = osp.join(main, 'LH20_Asp_220.tif')\n",
    "\n",
    "## vegetation paths\n",
    "fuelmod_path = osp.join(main, 'LH20_F13_200.tif')\n",
    "fuelvat_path = osp. join(main, 'LH20_F13_200.tif.vat.dbf')\n",
    "\n",
    "## fire detection (red pixel detection....)\n",
    "fire_path = osp.join(tifdata, 'ml_data')\n",
    "\n",
    "# meteorology paths (wrf outputs)\n",
    "wrfout_path = osp.join(main, 'wrfout_d02_2020-08-29_14-00-00')\n",
    "#wrfout_path = osp.join(main, 'processed_output-sample.nc')"
   ]
  },
  {
   "cell_type": "code",
   "execution_count": 20,
   "id": "330494ad-29dc-4d6d-a899-2e706fd8c7ca",
   "metadata": {},
   "outputs": [],
   "source": [
    "# Extraction of the data from the files\n",
    "wrfdata = nc.Dataset(wrfout_path)"
   ]
  },
  {
   "cell_type": "code",
   "execution_count": 28,
   "id": "73f09b30-9254-402d-a9ed-8794a24a2279",
   "metadata": {},
   "outputs": [],
   "source": [
    "#print(wrfdata.variables)"
   ]
  },
  {
   "cell_type": "code",
   "execution_count": 23,
   "id": "775f9bda-20ed-4bf9-90c9-4fc2b43448bc",
   "metadata": {},
   "outputs": [],
   "source": [
    "## spatial\n",
    "lon_grid = wrfdata.variables['XLONG'][0, :, :]\n",
    "lat_grid = wrfdata.variables['XLAT'][0, :, :]\n",
    "\n",
    "## temporal\n",
    "date_raw = wrfdata.variables['Times'][:]\n",
    "# Convert byte array to string\n",
    "date_str = ''.join(date_raw[0].astype(str))  # Join the byte elements as a single string\n",
    "# Parse the string into a datetime object\n",
    "date = datetime.strptime(date_str, '%Y-%m-%d_%H:%M:%S')\n",
    "\n",
    "## meteorology\n",
    "rain_c = wrfdata.variables['RAINC'][0, :, :] # 'RAINC', from convective (deep) thunderstorms\n",
    "rain_sh = wrfdata.variables['RAINSH'][0, :, :] # 'RAINSH', from shallow convective processes\n",
    "rain_nc = wrfdata.variables['RAINNC'][0, :, :] # 'RAINNC', from large-scale, non-convective (stratiform) processes\n",
    "rain = rain_c + rain_sh + rain_nc  # Note then observed rain at t will be rain[t] - rain[t-1] where t is a timestep\n",
    "temp = wrfdata.variables['T2'][0, :, :] #'T2', the measured temp 2m above the surface\n",
    "vapor = wrfdata.variables['Q2'][0, :, :] # 'Q2', the water-vapor mixing ratio 2m above the surface\n",
    "wind_u = wrfdata.variables['U10'][0, :, :]\n",
    "wind_v = wrfdata.variables['V10'][0, :, :]\n",
    "#\n",
    "\n",
    "#### CHECK THE CRS OF THE FILES #####\n",
    "## topography\n",
    "elevation_dataset = rasterio.open(elevation_path)\n",
    "elevation = elevation_dataset.read(1)\n",
    "aspect_dataset = rasterio.open(aspect_path)\n",
    "aspect = aspect_dataset.read(1)\n",
    "slope_dataset = rasterio.open(slope_path)\n",
    "slope = slope_dataset.read(1)\n",
    "\n",
    "## vegetation\n",
    "fuelmod_dataset = rasterio.open(fuelmod_path)\n",
    "fuelmod = fuelmod_dataset.read(1)\n",
    "\n",
    "### Read the VAT file\n",
    "fuel_vat = DBF(fuelvat_path)\n",
    "fuel_vat_df = pd.DataFrame(iter(fuel_vat))\n",
    "\n",
    "### Sort the VAT DataFrame by VALUE\n",
    "fuel_vat_df_sorted = fuel_vat_df.sort_values(by='VALUE').reset_index(drop=True)\n",
    "# Create a mapping from pixel values to class names\n",
    "fuel_value_to_class = dict(zip(fuel_vat_df['VALUE'], fuel_vat_df['FBFM13']))\n",
    "\n",
    "### Map the Fuel Model data to class names\n",
    "fuelmod = np.vectorize(fuel_value_to_class.get)(fuelmod)\n",
    "\n",
    "## fire detection (red pixel detection....)\n",
    "X, y, c, basetime = load(fire_path) # X is a matrix of lon, lat and time (since base_time), y is fire dectections, c is confidence\n",
    "lon_grid_fire = X[:, 0]\n",
    "lat_grid_fire = X[:, 1]\n",
    "time_in_days = X[:, 2]\n",
    "dates_fire_actual = basetime + pd.to_timedelta(time_in_days, unit='D')\n",
    "dates_fire =  dates_fire_actual.floor(\"h\")"
   ]
  },
  {
   "cell_type": "code",
   "execution_count": 24,
   "id": "b0a99866-ce41-4590-abdb-addbc10f70e9",
   "metadata": {},
   "outputs": [],
   "source": [
    "# Build the interpolator\n",
    "interp = Coord_to_index(degree = 2)\n",
    "interp.build(lon_grid, lat_grid) "
   ]
  },
  {
   "cell_type": "code",
   "execution_count": 25,
   "id": "b708dc2f-d635-4e28-828d-f6a6e7b45a0f",
   "metadata": {},
   "outputs": [],
   "source": [
    "# Define the function to interpolate continuous features for each coordinate\n",
    "def interpolate_data(lon, lat):\n",
    "    ia,ja = interp.evaluate(lon,lat)\n",
    "    i, j = np.round(ia).astype(int), np.round(ja).astype(int)\n",
    "    data_dict = {'date': date, 'lon': lon, 'lat': lat, 'temp': temp[i, j], 'rain': rain[i, j], 'vapor' :vapor[i, j], 'wind':(wind_u[i, j]**2 + wind_v[i, j]**2)**(1/2)}\n",
    "    return data_dict"
   ]
  },
  {
   "cell_type": "code",
   "execution_count": 26,
   "id": "1fdcd9a9-d0e4-4c0d-8c2d-3d0f9c7bec7e",
   "metadata": {},
   "outputs": [
    {
     "name": "stdout",
     "output_type": "stream",
     "text": [
      "Script runtime: 80.17 seconds\n",
      "CPU usage change: 19.10%\n",
      "Memory usage change: 786.11 MB\n"
     ]
    }
   ],
   "source": [
    "# Start timing and resource monitoring\n",
    "start_time = time.time()\n",
    "process = psutil.Process(os.getpid())\n",
    "start_cpu = process.cpu_percent(interval=None)\n",
    "start_mem = process.memory_info().rss  # in bytes\n",
    "\n",
    "# Run parallel interpolation\n",
    "data_interp = Parallel(n_jobs=-3)(\n",
    "    delayed(interpolate_data)(lon, lat) for lon, lat in zip(lon_grid_fire, lat_grid_fire)\n",
    ")\n",
    "# Convert the list of dictionaries to a DataFrame for easy handling\n",
    "df = pd.DataFrame(data_interp)\n",
    "\n",
    "# End timing and resource monitoring\n",
    "end_time = time.time()\n",
    "end_cpu = process.cpu_percent(interval=None)\n",
    "end_mem = process.memory_info().rss  # in bytes\n",
    "\n",
    "# Calculate the differences\n",
    "total_time = end_time - start_time\n",
    "cpu_usage = end_cpu - start_cpu\n",
    "memory_usage = end_mem - start_mem\n",
    "\n",
    "print(f\"Script runtime: {total_time:.2f} seconds\")\n",
    "print(f\"CPU usage change: {cpu_usage:.2f}%\")\n",
    "print(f\"Memory usage change: {memory_usage / (1024 ** 2):.2f} MB\")"
   ]
  },
  {
   "cell_type": "code",
   "execution_count": 27,
   "id": "2e61f50c-4a51-4182-9a7b-596e7170f70d",
   "metadata": {},
   "outputs": [
    {
     "name": "stdout",
     "output_type": "stream",
     "text": [
      "<bound method NDFrame.head of                        date         lon        lat        temp      rain  \\\n",
      "0       2020-08-29 14:00:00 -154.797897  18.801624  298.946625  0.000000   \n",
      "1       2020-08-29 14:00:00 -154.800247  18.813318  298.945709  0.000000   \n",
      "2       2020-08-29 14:00:00 -154.817444  18.810272  298.937683  0.000000   \n",
      "3       2020-08-29 14:00:00 -154.834686  18.807215  298.937683  0.000000   \n",
      "4       2020-08-29 14:00:00 -154.851990  18.804148  298.936340  0.000000   \n",
      "...                     ...         ...        ...         ...       ...   \n",
      "1343276 2020-08-29 14:00:00 -155.147598  19.370657  290.472290  0.324480   \n",
      "1343277 2020-08-29 14:00:00 -155.141022  19.368284  290.472290  0.324480   \n",
      "1343278 2020-08-29 14:00:00 -155.142105  19.377956  290.102875  0.584075   \n",
      "1343279 2020-08-29 14:00:00 -155.147919  19.376198  290.102875  0.584075   \n",
      "1343280 2020-08-29 14:00:00 -155.145981  19.372068  290.472290  0.324480   \n",
      "\n",
      "            vapor      wind  \n",
      "0        0.015052  8.416578  \n",
      "1        0.015085  8.417503  \n",
      "2        0.015130  8.501702  \n",
      "3        0.015130  8.501702  \n",
      "4        0.015111  8.635827  \n",
      "...           ...       ...  \n",
      "1343276  0.011788  4.659115  \n",
      "1343277  0.011788  4.659115  \n",
      "1343278  0.011395  4.918459  \n",
      "1343279  0.011395  4.918459  \n",
      "1343280  0.011788  4.659115  \n",
      "\n",
      "[1343281 rows x 7 columns]>\n"
     ]
    }
   ],
   "source": [
    "print(df.head)"
   ]
  },
  {
   "cell_type": "code",
   "execution_count": 16,
   "id": "51b3cc2d-6db6-458c-965c-0e35ec662482",
   "metadata": {
    "scrolled": true
   },
   "outputs": [
    {
     "name": "stdout",
     "output_type": "stream",
     "text": [
      "Script runtime: 933.06 seconds\n",
      "CPU usage change: 19.70%\n",
      "Memory usage change: 561.68 MB\n"
     ]
    }
   ],
   "source": [
    "# Start timing and resource monitoring\n",
    "start_time = time.time()\n",
    "process = psutil.Process(os.getpid())\n",
    "start_cpu = process.cpu_percent(interval=None)\n",
    "start_mem = process.memory_info().rss  # in bytes\n",
    "\n",
    "# Run interpolation in a simple loop\n",
    "data_interp = []\n",
    "for lon, lat in zip(lon_grid_fire, lat_grid_fire):\n",
    "    data_interp.append(interpolate_data(lon, lat))\n",
    "\n",
    "# Convert the list of dictionaries to a DataFrame for easy handling\n",
    "df = pd.DataFrame(data_interp)\n",
    "\n",
    "# End timing and resource monitoring\n",
    "end_time = time.time()\n",
    "end_cpu = process.cpu_percent(interval=None)\n",
    "end_mem = process.memory_info().rss  # in bytes\n",
    "\n",
    "# Calculate the differences\n",
    "total_time = end_time - start_time\n",
    "cpu_usage = end_cpu - start_cpu\n",
    "memory_usage = end_mem - start_mem\n",
    "\n",
    "print(f\"Script runtime: {total_time:.2f} seconds\")\n",
    "print(f\"CPU usage change: {cpu_usage:.2f}%\")\n",
    "print(f\"Memory usage change: {memory_usage / (1024 ** 2):.2f} MB\")"
   ]
  },
  {
   "cell_type": "code",
   "execution_count": null,
   "id": "14c597e8-ae93-42ca-8fcc-392042f1ab11",
   "metadata": {},
   "outputs": [],
   "source": [
    "# Feature engineering of meteorology variables (i.e. averaging to determine effect on fuel moisture)\n"
   ]
  }
 ],
 "metadata": {
  "kernelspec": {
   "display_name": "Python 3 (ipykernel)",
   "language": "python",
   "name": "python3"
  },
  "language_info": {
   "codemirror_mode": {
    "name": "ipython",
    "version": 3
   },
   "file_extension": ".py",
   "mimetype": "text/x-python",
   "name": "python",
   "nbconvert_exporter": "python",
   "pygments_lexer": "ipython3",
   "version": "3.10.15"
  }
 },
 "nbformat": 4,
 "nbformat_minor": 5
}
